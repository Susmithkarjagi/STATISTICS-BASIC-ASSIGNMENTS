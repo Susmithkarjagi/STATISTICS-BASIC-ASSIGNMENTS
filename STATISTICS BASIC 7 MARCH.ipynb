{
 "cells": [
  {
   "cell_type": "markdown",
   "id": "81b0a61b-f5f5-41d0-bb90-09a735500c0f",
   "metadata": {},
   "source": [
    "## STATISTICS BASIC ASSIGNMENT"
   ]
  },
  {
   "cell_type": "markdown",
   "id": "de75bca1-08e8-4d5c-9e89-60e4116db4be",
   "metadata": {},
   "source": [
    "Q1. What are the three measures of central tendency"
   ]
  },
  {
   "cell_type": "markdown",
   "id": "f1616a1a-fb10-4739-9189-cc33a15d0204",
   "metadata": {},
   "source": [
    "ANSWER : Mean, Median, Mode are the three measures of central tendency"
   ]
  },
  {
   "cell_type": "code",
   "execution_count": null,
   "id": "9039a07f-470d-4239-8ba1-f6946e440386",
   "metadata": {},
   "outputs": [],
   "source": []
  },
  {
   "cell_type": "markdown",
   "id": "086a8eef-4316-4aa5-8a26-24daa0a55229",
   "metadata": {},
   "source": [
    "Q2. What is the difference between the mean, median, and mode? How are they used to measure the central tendency of a dataset?"
   ]
  },
  {
   "cell_type": "markdown",
   "id": "b8603c02-7015-4f24-ae68-b9b61fcfde49",
   "metadata": {},
   "source": [
    "ANSWER : The mean, median, and mode are all measures of central tendency, but they differ in how they represent the center of a dataset.\n",
    "\n",
    "The mean is the average value of a dataset, calculated by adding up all the values and dividing by the number of values. It is commonly used to represent the center of a normally distributed dataset, where the majority of values cluster around the mean. However, the mean is sensitive to outliers, or extreme values, and can be skewed by them.\n",
    "\n",
    "The median is the middle value of a dataset when the values are arranged in order. It is used to represent the center of a dataset when there are outliers or the data is skewed. The median is not affected by extreme values, so it provides a more robust measure of central tendency than the mean.\n",
    "\n",
    "The mode is the most frequent value in a dataset. It is used to represent the center of a dataset when dealing with categorical or discrete data, where there are distinct values that cannot be averaged. The mode can also be used for continuous data, but it is less commonly used than the mean and median.\n",
    "\n",
    "In summary, the mean, median, and mode are all measures of central tendency, but they each represent the center of a dataset in different ways. The mean is sensitive to outliers, the median is not, and the mode is used for categorical or discrete data. The choice of which measure to use depends on the nature of the data and the research question being addressed."
   ]
  },
  {
   "cell_type": "code",
   "execution_count": null,
   "id": "ff1e377d-7127-4356-8c4d-0777a91717af",
   "metadata": {},
   "outputs": [],
   "source": []
  },
  {
   "cell_type": "markdown",
   "id": "204d4924-5d5e-4911-a26a-ec68e5f363d0",
   "metadata": {},
   "source": [
    "Q3. Measure the three measures of central tendency for the given height data:\n",
    "\n",
    " [178,177,176,177,178.2,178,175,179,180,175,178.9,176.2,177,172.5,178,176.5]"
   ]
  },
  {
   "cell_type": "code",
   "execution_count": 2,
   "id": "aa3c49b4-919d-442a-8fc3-a2182506d9b1",
   "metadata": {},
   "outputs": [],
   "source": [
    "import numpy as np\n",
    "data=[178,177,176,177,178.2,178,175,179,180,175,178.9,176.2,177,172.5,178,176.5]\n",
    "\n",
    "mean=np.mean(data)\n",
    "median=np.median(data)"
   ]
  },
  {
   "cell_type": "code",
   "execution_count": 3,
   "id": "56e9f163-9e5b-4942-857e-f31425a67d25",
   "metadata": {},
   "outputs": [
    {
     "data": {
      "text/plain": [
       "177.01875"
      ]
     },
     "execution_count": 3,
     "metadata": {},
     "output_type": "execute_result"
    }
   ],
   "source": [
    "mean"
   ]
  },
  {
   "cell_type": "code",
   "execution_count": 4,
   "id": "674b641e-cbb1-4cc7-95e0-361c30200fba",
   "metadata": {},
   "outputs": [
    {
     "data": {
      "text/plain": [
       "177.0"
      ]
     },
     "execution_count": 4,
     "metadata": {},
     "output_type": "execute_result"
    }
   ],
   "source": [
    "np.median(data)"
   ]
  },
  {
   "cell_type": "code",
   "execution_count": 6,
   "id": "30152888-2cd9-48ed-8211-43dd0e763680",
   "metadata": {},
   "outputs": [
    {
     "name": "stderr",
     "output_type": "stream",
     "text": [
      "/tmp/ipykernel_4602/1716562183.py:2: FutureWarning: Unlike other reduction functions (e.g. `skew`, `kurtosis`), the default behavior of `mode` typically preserves the axis it acts along. In SciPy 1.11.0, this behavior will change: the default value of `keepdims` will become False, the `axis` over which the statistic is taken will be eliminated, and the value None will no longer be accepted. Set `keepdims` to True or False to avoid this warning.\n",
      "  mode=stats.mode(data)\n"
     ]
    },
    {
     "ename": "TypeError",
     "evalue": "'ModeResult' object is not callable",
     "output_type": "error",
     "traceback": [
      "\u001b[0;31m---------------------------------------------------------------------------\u001b[0m",
      "\u001b[0;31mTypeError\u001b[0m                                 Traceback (most recent call last)",
      "Cell \u001b[0;32mIn[6], line 3\u001b[0m\n\u001b[1;32m      1\u001b[0m \u001b[38;5;28;01mfrom\u001b[39;00m \u001b[38;5;21;01mscipy\u001b[39;00m \u001b[38;5;28;01mimport\u001b[39;00m stats\n\u001b[1;32m      2\u001b[0m mode\u001b[38;5;241m=\u001b[39mstats\u001b[38;5;241m.\u001b[39mmode(data)\n\u001b[0;32m----> 3\u001b[0m \u001b[43mmode\u001b[49m\u001b[43m(\u001b[49m\u001b[43m)\u001b[49m\n",
      "\u001b[0;31mTypeError\u001b[0m: 'ModeResult' object is not callable"
     ]
    }
   ],
   "source": [
    "from scipy import stats\n",
    "mode=stats.mode(data)\n",
    "modE"
   ]
  },
  {
   "cell_type": "code",
   "execution_count": null,
   "id": "c9ed765f-27e4-4cc1-b797-b396acd77dbd",
   "metadata": {},
   "outputs": [],
   "source": []
  },
  {
   "cell_type": "markdown",
   "id": "85781523-9f05-4bba-b0b7-786ca2d8c536",
   "metadata": {},
   "source": [
    "Q4. Find the standard deviation for the given data:\n",
    "\n",
    "[178,177,176,177,178.2,178,175,179,180,175,178.9,176.2,177,172.5,178,176.5]"
   ]
  },
  {
   "cell_type": "code",
   "execution_count": 7,
   "id": "3b533b87-23da-4e54-8553-7c3d8c68d8d1",
   "metadata": {},
   "outputs": [],
   "source": [
    "data1=[178,177,176,177,178.2,178,175,179,180,175,178.9,176.2,177,172.5,178,176.5]\n",
    "SD=np.std(data1)"
   ]
  },
  {
   "cell_type": "code",
   "execution_count": 8,
   "id": "fa969126-c4be-49f8-a19c-4f36ae35d6b9",
   "metadata": {},
   "outputs": [
    {
     "data": {
      "text/plain": [
       "1.7885814036548633"
      ]
     },
     "execution_count": 8,
     "metadata": {},
     "output_type": "execute_result"
    }
   ],
   "source": [
    "SD"
   ]
  },
  {
   "cell_type": "code",
   "execution_count": null,
   "id": "26af85ef-caea-428e-a8d0-9d88002d53dc",
   "metadata": {},
   "outputs": [],
   "source": []
  },
  {
   "cell_type": "markdown",
   "id": "57b04a10-0684-46e4-ae91-e5b85d345f63",
   "metadata": {},
   "source": [
    "Q5. How are measures of dispersion such as range, variance, and standard deviation used to describe\n",
    "the spread of a dataset? Provide an example."
   ]
  },
  {
   "cell_type": "markdown",
   "id": "78459efa-b519-40a2-b09c-0bdb7aed353e",
   "metadata": {},
   "source": [
    "ANSWER : Measures of dispersion such as range, variance, and standard deviation are used to describe the spread of a dataset. These measures provide information about how much the data values deviate from the central tendency (mean, median, or mode) of the dataset.\n",
    "\n",
    "Range:\n",
    "Range is the difference between the largest and smallest values in a dataset. It provides an indication of how spread out the dataset is. A large range indicates that the data values are widely spread out, while a small range indicates that the data values are closely packed.\n",
    "\n",
    "For example, let's consider the following dataset of daily temperatures in degrees Celsius for a particular city for a week: [20, 21, 19, 22, 18, 23, 20]. The range of this dataset is 5, which means that the temperatures range from 18°C to 23°C. This indicates that the temperatures vary quite a bit during the week.\n",
    "\n",
    "Variance and Standard Deviation:\n",
    "Variance and standard deviation measure how much the data values deviate from the mean of the dataset. Variance is the average of the squared differences between each data value and the mean, while standard deviation is the square root of the variance. These measures provide a more precise indication of how spread out the data is than range.\n",
    "\n",
    "For example, let's consider the following dataset of test scores for a class of students: [80, 85, 90, 75, 70, 95, 85, 80, 85]. The mean score for this dataset is 83.33. The variance of the dataset is 54.44, and the standard deviation is 7.38. These values indicate that the test scores vary quite a bit from the mean, with some scores being as much as 7.38 points away from the mean. This provides a more detailed understanding of the spread of the scores than simply looking at the range."
   ]
  },
  {
   "cell_type": "code",
   "execution_count": null,
   "id": "8a25f3e8-5fe8-42ba-bb2d-f1add6f6a6ee",
   "metadata": {},
   "outputs": [],
   "source": []
  },
  {
   "cell_type": "markdown",
   "id": "08357cd2-77ef-4b6d-ac83-508ea7395d29",
   "metadata": {},
   "source": [
    "Q6. What is a Venn diagram?"
   ]
  },
  {
   "cell_type": "markdown",
   "id": "03d57d7d-062d-4fc1-91ed-28f97f34902e",
   "metadata": {},
   "source": [
    "ANSWER : \n",
    "A Venn diagram is a graphical representation of the relationships between sets of data. It is composed of overlapping circles or other shapes, where each circle represents a set and the overlapping regions represent the intersection of the sets. The Venn diagram is commonly used in mathematics, logic, statistics, and other fields to visually illustrate the relationships between different sets of data."
   ]
  },
  {
   "cell_type": "code",
   "execution_count": null,
   "id": "d09e38cf-9cbc-4320-9a18-b3524f9be63c",
   "metadata": {},
   "outputs": [],
   "source": []
  },
  {
   "cell_type": "markdown",
   "id": "c19c7fbe-8ea1-44f7-a1d6-fda74be8d235",
   "metadata": {},
   "source": [
    "Q7. For the two given sets A = (2,3,4,5,6,7) & B = (0,2,6,8,10). Find:\n",
    "\n",
    "(i) \tA  n  B\n",
    "\n",
    "(ii)\tA ⋃ B"
   ]
  },
  {
   "cell_type": "code",
   "execution_count": 9,
   "id": "322d9937-e526-4fb4-9a31-c2385b0b346b",
   "metadata": {},
   "outputs": [],
   "source": [
    "A = {2,3,4,5,6,7}\n",
    "B= {0,2,6,8,10}"
   ]
  },
  {
   "cell_type": "code",
   "execution_count": 10,
   "id": "ccd7141f-5d21-4015-a58d-695539373d7e",
   "metadata": {},
   "outputs": [
    {
     "data": {
      "text/plain": [
       "{0, 2, 3, 4, 5, 6, 7, 8, 10}"
      ]
     },
     "execution_count": 10,
     "metadata": {},
     "output_type": "execute_result"
    }
   ],
   "source": [
    "A.union(B)"
   ]
  },
  {
   "cell_type": "code",
   "execution_count": 11,
   "id": "9d426f0a-8997-4af8-8960-9a7646131bf9",
   "metadata": {},
   "outputs": [
    {
     "data": {
      "text/plain": [
       "{2, 6}"
      ]
     },
     "execution_count": 11,
     "metadata": {},
     "output_type": "execute_result"
    }
   ],
   "source": [
    "A.intersection(B)"
   ]
  },
  {
   "cell_type": "code",
   "execution_count": null,
   "id": "c89c1bdb-0ef6-42c6-b5e5-ebc237bd7d3c",
   "metadata": {},
   "outputs": [],
   "source": []
  },
  {
   "cell_type": "markdown",
   "id": "9125d05b-2a0d-48b6-9f88-2340924beb47",
   "metadata": {},
   "source": [
    "Q8. What do you understand about skewness in data?"
   ]
  },
  {
   "cell_type": "markdown",
   "id": "2c4f3b15-90f0-4375-92a4-ef8332780b41",
   "metadata": {},
   "source": [
    "ANSWER : In statistics, skewness refers to the degree of asymmetry in a probability distribution. Skewness is a measure of the extent to which a distribution deviates from symmetry around its mean.\n",
    "\n",
    "When a dataset is symmetric, the mean, median, and mode are all equal. When a dataset is positively skewed, the mean is greater than the median, which is greater than the mode. This indicates that there are more data points on the left side of the distribution, and a long tail on the right side. When a dataset is negatively skewed, the mean is less than the median, which is less than the mode. This indicates that there are more data points on the right side of the distribution, and a long tail on the left side.    "
   ]
  },
  {
   "cell_type": "code",
   "execution_count": null,
   "id": "ddd1540b-3ef6-4f48-8f11-337d882d93ed",
   "metadata": {},
   "outputs": [],
   "source": []
  },
  {
   "cell_type": "markdown",
   "id": "743713a6-8588-4888-8604-f6a1b7c7bf8e",
   "metadata": {},
   "source": [
    "Q9. If a data is right skewed then what will be the position of median with respect to mean?"
   ]
  },
  {
   "cell_type": "markdown",
   "id": "d20b1670-af1c-49b4-8323-273cd6537b8e",
   "metadata": {},
   "source": [
    "ANSWER : If a dataset is right-skewed, meaning it has a long tail on the right side of the distribution, then the median will typically be less than the mean."
   ]
  },
  {
   "cell_type": "code",
   "execution_count": null,
   "id": "33e2a087-ef0c-4410-983f-a202e6f3e9b4",
   "metadata": {},
   "outputs": [],
   "source": []
  },
  {
   "cell_type": "markdown",
   "id": "b97fac99-8d2f-480d-8c6a-6f33f17b19fc",
   "metadata": {},
   "source": [
    "Q10. Explain the difference between covariance and correlation. How are these measures used in\n",
    "statistical analysis?"
   ]
  },
  {
   "cell_type": "markdown",
   "id": "eb745495-ac19-4584-80cf-2e2c983caf51",
   "metadata": {},
   "source": [
    "ANSWER : \n",
    "Covariance measures the degree to which two variables vary together. Specifically, covariance measures the average product of the deviations of the two variables from their respective means. If the covariance is positive, it indicates that the two variables tend to move in the same direction, while a negative covariance indicates that they tend to move in opposite directions. However, the magnitude of covariance is difficult to interpret because it depends on the scale of the variables, and it does not provide a standardized measure of the strength of the relationship between the two variables.\n",
    "\n",
    "Correlation, on the other hand, is a standardized measure of the relationship between two variables that is independent of the scale of measurement. Correlation measures the degree to which two variables are linearly related to each other, and it ranges from -1 (perfect negative correlation) to 1 (perfect positive correlation), with 0 indicating no correlation. Unlike covariance, the magnitude of correlation can be interpreted as the strength of the relationship between the two variables.\n",
    "\n",
    "Both covariance and correlation are used in statistical analysis to understand the relationship between two variables. However, correlation is often preferred because it provides a standardized measure of the strength of the relationship that can be easily interpreted and compared across different datasets. Additionally, correlation can be used to identify whether the relationship between two variables is linear or non-linear, while covariance cannot.    "
   ]
  },
  {
   "cell_type": "code",
   "execution_count": null,
   "id": "754c0ff6-0feb-48d7-80cb-0af48e3ba813",
   "metadata": {},
   "outputs": [],
   "source": []
  },
  {
   "cell_type": "markdown",
   "id": "e5a6ae90-8670-420d-9799-e35dbdb9e5a7",
   "metadata": {},
   "source": [
    "Q11. What is the formula for calculating the sample mean? Provide an example calculation for a\n",
    "dataset."
   ]
  },
  {
   "cell_type": "code",
   "execution_count": null,
   "id": "11275fe8-b5d0-428b-8bb9-ba7190f4fdc9",
   "metadata": {},
   "outputs": [],
   "source": [
    "ANSWER : \n",
    "mean = (sum of all values in the dataset) / (number of values in the dataset) \n"
   ]
  },
  {
   "cell_type": "code",
   "execution_count": 13,
   "id": "b98959a3-22cd-44dc-9936-bcbb937adde4",
   "metadata": {},
   "outputs": [],
   "source": [
    "#example 'A' is data set containing a data\n",
    "A=[2,3,4,5,6,7,3,4,5]\n",
    "mean = (2+3+4+5+6+7+3+4+5)/9"
   ]
  },
  {
   "cell_type": "code",
   "execution_count": 14,
   "id": "73f61736-26cf-433b-a085-7c8a85ec6ff4",
   "metadata": {},
   "outputs": [
    {
     "data": {
      "text/plain": [
       "4.333333333333333"
      ]
     },
     "execution_count": 14,
     "metadata": {},
     "output_type": "execute_result"
    }
   ],
   "source": [
    "mean"
   ]
  },
  {
   "cell_type": "code",
   "execution_count": 15,
   "id": "cec2fc79-03a1-4819-b0e9-bb385dcfff07",
   "metadata": {},
   "outputs": [
    {
     "data": {
      "text/plain": [
       "4.333333333333333"
      ]
     },
     "execution_count": 15,
     "metadata": {},
     "output_type": "execute_result"
    }
   ],
   "source": [
    "#calculation through numpy\n",
    "A=[2,3,4,5,6,7,3,4,5]\n",
    "mean1=np.mean(A)\n",
    "mean1"
   ]
  },
  {
   "cell_type": "code",
   "execution_count": null,
   "id": "7a5625d8-8498-448c-b860-3fa7414d33d0",
   "metadata": {},
   "outputs": [],
   "source": []
  },
  {
   "cell_type": "markdown",
   "id": "cd1def29-b699-4695-9d10-489edb5f100f",
   "metadata": {},
   "source": [
    "Q12. For a normal distribution data what is the relationship between its measure of central tendency?"
   ]
  },
  {
   "cell_type": "markdown",
   "id": "f7da0117-1502-4168-b143-a55fa19cd11f",
   "metadata": {},
   "source": [
    "ANSWER : \n",
    "For a normal distribution, the three measures of central tendency (mean, median, and mode) are all equal. This means that if a dataset is normally distributed, the mean, median, and mode will all be at the center of the distribution, and they will all have the same value.\n",
    "\n",
    "This relationship holds because the normal distribution is a symmetric distribution with a bell-shaped curve, where the data is evenly distributed on both sides of the mean. As a result, the median and mode will be located at the same point as the mean.    "
   ]
  },
  {
   "cell_type": "code",
   "execution_count": null,
   "id": "9b6b0de8-ac4e-4a07-95bf-55f0d93a2057",
   "metadata": {},
   "outputs": [],
   "source": []
  },
  {
   "cell_type": "markdown",
   "id": "9c2dc16b-e3ca-4464-9e1b-c26d317e4154",
   "metadata": {},
   "source": [
    "Q13. How is covariance different from correlation?"
   ]
  },
  {
   "cell_type": "markdown",
   "id": "f1f59040-c5b2-463d-8401-9662c4443a7c",
   "metadata": {},
   "source": [
    "ANSWER : \n",
    "Covariance measures the degree to which two variables vary together. Specifically, covariance measures the average product of the deviations of the two variables from their respective means. If the covariance is positive, it indicates that the two variables tend to move in the same direction, while a negative covariance indicates that they tend to move in opposite directions. However, the magnitude of covariance is difficult to interpret because it depends on the scale of the variables, and it does not provide a standardized measure of the strength of the relationship between the two variables.\n",
    "\n",
    "Correlation, on the other hand, is a standardized measure of the relationship between two variables that is independent of the scale of measurement. Correlation measures the degree to which two variables are linearly related to each other, and it ranges from -1 (perfect negative correlation) to 1 (perfect positive correlation), with 0 indicating no correlation. Unlike covariance, the magnitude of correlation can be interpreted as the strength of the relationship between the two variables.\n",
    "\n",
    "In summary, covariance measures the degree to which two variables vary together, while correlation measures the degree to which they are linearly related. Covariance is difficult to interpret because it depends on the scale of the variables, while correlation is standardized and ranges from -1 to 1, with 0 indicating no correlation.    "
   ]
  },
  {
   "cell_type": "code",
   "execution_count": null,
   "id": "68669c19-1588-4fe7-8c16-53a1072f9a2c",
   "metadata": {},
   "outputs": [],
   "source": []
  },
  {
   "cell_type": "markdown",
   "id": "2835e99f-9307-4728-a1dc-a041ccab9b68",
   "metadata": {},
   "source": [
    "Q14. How do outliers affect measures of central tendency and dispersion? Provide an example"
   ]
  },
  {
   "cell_type": "markdown",
   "id": "94cb34ee-3a97-44a6-a68e-ee9fe34dc3e4",
   "metadata": {},
   "source": [
    "ANSWER : \n",
    "utliers are data points that are significantly different from the other data points in a dataset. Outliers can affect measures of central tendency and dispersion by pulling them in one direction or another, which can lead to incorrect conclusions about the dataset.\n",
    "\n",
    "In terms of measures of central tendency, outliers can greatly affect the mean, but have little effect on the median and mode. This is because the mean is calculated by adding up all the data points and dividing by the number of data points, which means that outliers can greatly influence the value of the mean. On the other hand, the median and mode are less affected by outliers because they only consider the values in the middle of the dataset or the most frequently occurring value.\n",
    "\n",
    "In terms of measures of dispersion, outliers can affect the range, variance, and standard deviation. Outliers can increase the range, which is the difference between the maximum and minimum values in a dataset. They can also increase the variance and standard deviation, which are measures of how spread out the data is around the mean. If an outlier is significantly different from the other data points in the dataset, it can increase the variance and standard deviation, which can make it difficult to interpret the spread of the dataset.\n",
    "\n",
    "\n",
    "from the below example we come to know that the when an outlier is added to given dataset then the there will be huge change in the mean , but in case of median and mode are negligable changes"
   ]
  },
  {
   "cell_type": "code",
   "execution_count": 16,
   "id": "0111aecf-d8a5-4b57-9f72-97241e792c2f",
   "metadata": {},
   "outputs": [
    {
     "name": "stderr",
     "output_type": "stream",
     "text": [
      "/tmp/ipykernel_4602/1009867027.py:6: FutureWarning: Unlike other reduction functions (e.g. `skew`, `kurtosis`), the default behavior of `mode` typically preserves the axis it acts along. In SciPy 1.11.0, this behavior will change: the default value of `keepdims` will become False, the `axis` over which the statistic is taken will be eliminated, and the value None will no longer be accepted. Set `keepdims` to True or False to avoid this warning.\n",
      "  mode3=stats.mode(DATA)\n"
     ]
    }
   ],
   "source": [
    "DATA=[7,8,7,8,9,4,5,7,6]\n",
    "mean3=np.mean(DATA)\n",
    "median3=np.median(DATA)\n",
    "\n",
    "from scipy import stats\n",
    "mode3=stats.mode(DATA)\n"
   ]
  },
  {
   "cell_type": "code",
   "execution_count": 17,
   "id": "3a7ed35b-1393-47e5-9368-5ef499367fcb",
   "metadata": {},
   "outputs": [
    {
     "data": {
      "text/plain": [
       "6.777777777777778"
      ]
     },
     "execution_count": 17,
     "metadata": {},
     "output_type": "execute_result"
    }
   ],
   "source": [
    "mean3"
   ]
  },
  {
   "cell_type": "code",
   "execution_count": 53,
   "id": "0e56024d-9db8-4ffd-ba32-e0668b4e9e1a",
   "metadata": {},
   "outputs": [
    {
     "data": {
      "text/plain": [
       "7.0"
      ]
     },
     "execution_count": 53,
     "metadata": {},
     "output_type": "execute_result"
    }
   ],
   "source": [
    "median3"
   ]
  },
  {
   "cell_type": "code",
   "execution_count": 58,
   "id": "9edb2052-33d4-4b3e-bfb7-2debfc9ddc70",
   "metadata": {},
   "outputs": [
    {
     "data": {
      "text/plain": [
       "ModeResult(mode=array([7]), count=array([3]))"
      ]
     },
     "execution_count": 58,
     "metadata": {},
     "output_type": "execute_result"
    }
   ],
   "source": [
    "mode3"
   ]
  },
  {
   "cell_type": "code",
   "execution_count": 59,
   "id": "8a8445cf-5025-4f60-a6bd-c6bc43b23070",
   "metadata": {},
   "outputs": [
    {
     "name": "stderr",
     "output_type": "stream",
     "text": [
      "/tmp/ipykernel_84/798021015.py:7: FutureWarning: Unlike other reduction functions (e.g. `skew`, `kurtosis`), the default behavior of `mode` typically preserves the axis it acts along. In SciPy 1.11.0, this behavior will change: the default value of `keepdims` will become False, the `axis` over which the statistic is taken will be eliminated, and the value None will no longer be accepted. Set `keepdims` to True or False to avoid this warning.\n",
      "  mode4=stats.mode(DATA1)\n"
     ]
    }
   ],
   "source": [
    "#If we add outlier to this DATA as '50'\n",
    "DATA1=[7,8,7,8,9,4,5,7,6,50]\n",
    "mean4=np.mean(DATA1)\n",
    "median4=np.median(DATA1)\n",
    "\n",
    "from scipy import stats\n",
    "mode4=stats.mode(DATA1)"
   ]
  },
  {
   "cell_type": "code",
   "execution_count": 55,
   "id": "1c40c10a-12d5-481e-acc6-e9478cb7be4a",
   "metadata": {},
   "outputs": [
    {
     "data": {
      "text/plain": [
       "11.1"
      ]
     },
     "execution_count": 55,
     "metadata": {},
     "output_type": "execute_result"
    }
   ],
   "source": [
    "mean4"
   ]
  },
  {
   "cell_type": "code",
   "execution_count": 56,
   "id": "a3b0228a-c4a3-4e0a-a400-86cf30d3bc5f",
   "metadata": {},
   "outputs": [
    {
     "data": {
      "text/plain": [
       "7.0"
      ]
     },
     "execution_count": 56,
     "metadata": {},
     "output_type": "execute_result"
    }
   ],
   "source": [
    "median4"
   ]
  },
  {
   "cell_type": "code",
   "execution_count": 60,
   "id": "205c1d32-1ce7-4cdc-aac4-a2ef30fc2214",
   "metadata": {},
   "outputs": [
    {
     "data": {
      "text/plain": [
       "ModeResult(mode=array([7]), count=array([3]))"
      ]
     },
     "execution_count": 60,
     "metadata": {},
     "output_type": "execute_result"
    }
   ],
   "source": [
    "mode4"
   ]
  },
  {
   "cell_type": "code",
   "execution_count": 61,
   "id": "14925684-9db9-4f8d-8dd9-e5e2f4d3bedf",
   "metadata": {},
   "outputs": [],
   "source": [
    "DATA=[7,8,7,8,9,4,5,7,6]\n",
    "std=np.std(DATA)\n",
    "var=np.var(DATA)"
   ]
  },
  {
   "cell_type": "code",
   "execution_count": 62,
   "id": "8e1532d1-bc80-46af-ac65-fc0a9b178413",
   "metadata": {},
   "outputs": [
    {
     "data": {
      "text/plain": [
       "1.4740554623801776"
      ]
     },
     "execution_count": 62,
     "metadata": {},
     "output_type": "execute_result"
    }
   ],
   "source": [
    "std\n"
   ]
  },
  {
   "cell_type": "code",
   "execution_count": 63,
   "id": "98afa0e3-cbaf-4056-9741-dc0034456dda",
   "metadata": {},
   "outputs": [
    {
     "data": {
      "text/plain": [
       "2.1728395061728394"
      ]
     },
     "execution_count": 63,
     "metadata": {},
     "output_type": "execute_result"
    }
   ],
   "source": [
    "var"
   ]
  },
  {
   "cell_type": "code",
   "execution_count": 18,
   "id": "162fbf6a-069b-4cd6-afe2-7af362cb6eb4",
   "metadata": {},
   "outputs": [],
   "source": [
    "#If we add outlier to this DATA as '50' to calculate std deviation and variance\n",
    "DATA1=[7,8,7,8,9,4,5,7,6,50]\n",
    "std1=np.std(DATA1)\n",
    "var1=np.var(DATA1)"
   ]
  },
  {
   "cell_type": "code",
   "execution_count": 19,
   "id": "33fc67ff-e49d-4c62-a951-bbe42adfaa42",
   "metadata": {},
   "outputs": [
    {
     "data": {
      "text/plain": [
       "13.041855696180662"
      ]
     },
     "execution_count": 19,
     "metadata": {},
     "output_type": "execute_result"
    }
   ],
   "source": [
    "std1"
   ]
  },
  {
   "cell_type": "code",
   "execution_count": 66,
   "id": "65db4845-f68f-4643-87b2-9203ad3bc473",
   "metadata": {},
   "outputs": [
    {
     "data": {
      "text/plain": [
       "170.08999999999997"
      ]
     },
     "execution_count": 66,
     "metadata": {},
     "output_type": "execute_result"
    }
   ],
   "source": [
    "var1"
   ]
  },
  {
   "cell_type": "markdown",
   "id": "98b80de2-5748-4c69-b05f-54480a3861e8",
   "metadata": {},
   "source": [
    "from the above example  we can say  in the \"DATA\" if we add an outlier there is huge change in the mean, standard deviation, varaiance,.\n",
    "but median and mode changes are negligable\n"
   ]
  }
 ],
 "metadata": {
  "kernelspec": {
   "display_name": "Python 3 (ipykernel)",
   "language": "python",
   "name": "python3"
  },
  "language_info": {
   "codemirror_mode": {
    "name": "ipython",
    "version": 3
   },
   "file_extension": ".py",
   "mimetype": "text/x-python",
   "name": "python",
   "nbconvert_exporter": "python",
   "pygments_lexer": "ipython3",
   "version": "3.10.8"
  }
 },
 "nbformat": 4,
 "nbformat_minor": 5
}
