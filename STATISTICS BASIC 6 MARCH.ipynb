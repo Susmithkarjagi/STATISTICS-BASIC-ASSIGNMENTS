{
 "cells": [
  {
   "cell_type": "markdown",
   "id": "95d81bab-d7a4-4654-9b12-44ac4bb77e83",
   "metadata": {},
   "source": [
    "## STATISTICS BASIC"
   ]
  },
  {
   "cell_type": "markdown",
   "id": "c86b6fc7-f866-4c39-8df5-ceeb2c16ebda",
   "metadata": {},
   "source": [
    "Q1. What is Statistics?"
   ]
  },
  {
   "cell_type": "markdown",
   "id": "18e73c50-ba44-4b78-8644-34a665d2dc25",
   "metadata": {},
   "source": [
    "ANSWER: Statistics is a branch of mathematics that deals with the collection, analysis, interpretation, presentation, and organization of numerical data. It involves using mathematical and computational techniques to draw conclusions and make decisions based on data"
   ]
  },
  {
   "cell_type": "code",
   "execution_count": null,
   "id": "2e0f2d9d-6946-4a1a-8415-612fb1b18e43",
   "metadata": {},
   "outputs": [],
   "source": []
  },
  {
   "cell_type": "markdown",
   "id": "69f99b43-bf9b-4541-85bf-8676bc18be8e",
   "metadata": {},
   "source": [
    "Q2. Define the different types of statistics and give an example of when each type might be used."
   ]
  },
  {
   "cell_type": "markdown",
   "id": "e01097b2-5bde-4166-9939-1afa7d3d159a",
   "metadata": {},
   "source": [
    "ANSWER:\n",
    "Descriptive statistics: Descriptive statistics deals with summarizing and describing data. It includes measures such as mean, median, mode, standard deviation, and variance. Descriptive statistics are used to provide information about a data set, such as its central tendency, variability, and shape. For example, if we want to describe the average age of a group of people, we might calculate the mean age of the group.\n",
    "\n",
    "Inferential statistics: Inferential statistics deals with making conclusions and predictions about a population based on a sample of data. It involves using probability theory and hypothesis testing to draw inferences about a population from a sample. For example, if we want to test whether a new drug is effective, we might conduct a randomized controlled trial with a sample of patients and use inferential statistics to determine if the drug is significantly better than a placebo."
   ]
  },
  {
   "cell_type": "code",
   "execution_count": null,
   "id": "51512c91-0384-4756-804b-ff44d5a8101a",
   "metadata": {},
   "outputs": [],
   "source": []
  },
  {
   "cell_type": "markdown",
   "id": "baaa70d9-d295-4414-8ad1-bd07a8cad81b",
   "metadata": {},
   "source": [
    "Q3. What are the different types of data and how do they differ from each other? Provide an example of\n",
    "each type of data."
   ]
  },
  {
   "cell_type": "markdown",
   "id": "5e06bb40-ddc6-47e1-8eec-5e4d342ca8cc",
   "metadata": {},
   "source": [
    "ANSWER :\n",
    "DATA are mainly divided into two types and they are qualitative and quantitative data \n",
    "\n",
    "1)QUALITATIVE DATA : we have 2 sub classes in this they are\n",
    "a)Nominal data: Nominal data are categorical data where the values are assigned to represent different categories or groups. The values have no inherent order or ranking. Examples of nominal data include gender (male/female), race (white, black, Asian, etc.), and favorite color (red, blue, green, etc.)\n",
    "\n",
    "b)Ordinal data: Ordinal data are categorical data where the values have a specific order or ranking. The intervals between values are not necessarily equal. Examples of ordinal data include levels of education (elementary, high school, college, etc.), socioeconomic status (low, medium, high), and rankings (1st, 2nd, 3rd, etc.)\n",
    "\n",
    "2)QUANTITATIVE DATA :we have 2 sub classes in this they are\n",
    "a)Discrete data : Discrete data are numerical data that can only take on specific values, typically integers, and are usually counted rather than measured. Examples of discrete data include the number of children in a family, the number of cars in a parking lot, and the number of customers who visited a store in a day.\n",
    "\n",
    "b)Continuous data: Continuous data are numerical data that can take on any value within a range and are typically measured. Examples of continuous data include height, weight, temperature, and time. Continuous data can be further divided into interval and ratio data, depending on whether they have a true zero point or not.\n",
    "\n",
    "*Interval data: Interval data are numerical data where the intervals between values are equal. There is no true zero point or starting point. Examples of interval data include temperature measured in degrees Celsius or Fahrenheit, IQ scores, and standardized test scores.\n",
    "9\n",
    "*Ratio data: Ratio data are numerical data where the intervals between values are equal and there is a true zero point or starting point. This means that ratios can be calculated between values. Examples of ratio data include height, weight, distance, and time."
   ]
  },
  {
   "cell_type": "code",
   "execution_count": null,
   "id": "6a028bee-4fbe-4b7e-9b20-a162add1bd0c",
   "metadata": {},
   "outputs": [],
   "source": []
  },
  {
   "cell_type": "markdown",
   "id": "812dbf55-cda8-4a8a-9cc9-3e1d88619d5b",
   "metadata": {},
   "source": [
    "Q4. Categorise the following datasets with respect to quantitative and qualitative data types:\n",
    "(i) Grading in exam: A+, A, B+, B, C+, C, D, E\n",
    "(ii) Colour of mangoes: yellow, green, orange, red\n",
    "(iii) Height data of a class: [178.9, 179, 179.5, 176, 177.2, 178.3, 175.8,...]\n",
    "(iv) Number of mangoes exported by a farm: [500, 600, 478, 672, ...]"
   ]
  },
  {
   "cell_type": "markdown",
   "id": "ca1da9a7-9b74-4330-b185-fa6d9307f4b3",
   "metadata": {},
   "source": [
    "(i) Grading in exam: A+, A, B+, B, C+, C, D, E  ------ Ordinal data (Qualitative)\n",
    "\n",
    "\n",
    "(ii) Colour of mangoes: yellow, green, orange, red ----- Nominal data (Qualitative)\n",
    "\n",
    "(iii) Height data of a class: [178.9, 179, 179.5, 176, 177.2, 178.3, 175.8,...] -----Continous data (Quantitative)\n",
    "\n",
    "(iv) Number of mangoes exported by a farm: [500, 600, 478, 672, ...] ------descrete data (Quantitative)"
   ]
  },
  {
   "cell_type": "code",
   "execution_count": null,
   "id": "f1a5ac05-1bae-44b5-95a4-7538bfcd3ea4",
   "metadata": {},
   "outputs": [],
   "source": []
  },
  {
   "cell_type": "markdown",
   "id": "341c5c87-9840-4203-a9c2-b4bbcd3a53e7",
   "metadata": {},
   "source": [
    "Q5. Explain the concept of levels of measurement and give an example of a variable for each level."
   ]
  },
  {
   "cell_type": "markdown",
   "id": "f45b1e61-4079-4c09-b327-df02acd584f3",
   "metadata": {},
   "source": [
    "ANSWER : Levels of measurement refer to the different ways in which data can be measured or classified. There are four levels of measurement: nominal, ordinal, interval, and ratio.\n",
    "\n",
    "Nominal level: Data at the nominal level consists of categories or labels with no inherent order or ranking. Examples of variables at the nominal level include gender (male/female), eye color (blue, brown, green), and race (white, black, Asian).\n",
    "\n",
    "Ordinal level: Data at the ordinal level consists of categories that can be ordered or ranked, but the differences between the categories may not be uniform. Examples of variables at the ordinal level include education level (elementary, high school, college), job rank (entry-level, manager, director), and survey ratings (strongly agree, agree, neutral, disagree, strongly disagree).\n",
    "\n",
    "Interval level: Data at the interval level are measured on a scale with equal intervals between values, but there is no true zero point. Examples of variables at the interval level include temperature measured in degrees Celsius or Fahrenheit, time of day, and standardized test scores.\n",
    "\n",
    "Ratio level: Data at the ratio level are measured on a scale with equal intervals between values and a true zero point, which allows for ratios to be calculated. Examples of variables at the ratio level include height, weight, distance, and time.\n",
    "\n",
    "The level of measurement determines the type of statistical analysis that can be performed on the data. Nominal data can be summarized using frequency counts and percentages, while ordinal data can be summarized using median or mode. Interval and ratio data can be summarized using mean, standard deviation, and correlation coefficients, and can be analyzed using a variety of statistical tests."
   ]
  },
  {
   "cell_type": "code",
   "execution_count": null,
   "id": "b5e21e5f-5e66-4dde-b5eb-2ae8013d8d91",
   "metadata": {},
   "outputs": [],
   "source": []
  },
  {
   "cell_type": "markdown",
   "id": "a9e26ea7-4622-44cf-b75b-a0e693c94680",
   "metadata": {},
   "source": [
    "Q6. Why is it important to understand the level of measurement when analyzing data? Provide an\n",
    "example to illustrate your answer."
   ]
  },
  {
   "cell_type": "markdown",
   "id": "f2dfe0f0-1de2-462e-b8b1-5bbf9bdff068",
   "metadata": {},
   "source": [
    "ANSWER : Understanding the level of measurement is important when analyzing data because it determines the appropriate statistical methods and measures that can be used to analyze and summarize the data. Different levels of measurement have different properties and require different types of statistical analyses.\n",
    "\n",
    "For example, if we have data on the educational levels of employees in a company, we might categorize the data into four levels: \"no high school diploma,\" \"high school diploma,\" \"college degree,\" and \"graduate degree.\" This is an example of nominal data, as the categories do not have an inherent order or ranking. We could summarize the data using frequency counts and percentages, and determine the most common educational level among employees.\n",
    "\n",
    "On the other hand, if we have data on the ages of a group of individuals, we could use interval or ratio data, depending on whether we are using a scale with a true zero point (such as the number of years since birth). In this case, we could calculate measures of central tendency such as mean or median, and measures of variability such as standard deviation.\n",
    "\n",
    "If we do not understand the level of measurement of the data, we may end up using inappropriate statistical methods or measures, which can lead to inaccurate or misleading results. Therefore, it is important to understand the level of measurement when analyzing data to ensure that the appropriate methods and measures are used.    \n",
    "    "
   ]
  },
  {
   "cell_type": "code",
   "execution_count": null,
   "id": "5d9116ef-ad6c-437d-9b7d-186a0e05ecb0",
   "metadata": {},
   "outputs": [],
   "source": []
  },
  {
   "cell_type": "markdown",
   "id": "dff3aedd-5d55-454e-8f0f-0685d4861998",
   "metadata": {},
   "source": [
    "Q7. How nominal data type is different from ordinal data type."
   ]
  },
  {
   "cell_type": "markdown",
   "id": "0d0427c8-6c2e-4d17-a53c-ee36bea7cd1b",
   "metadata": {},
   "source": [
    "ANSWER : Nominal and ordinal data are both types of categorical data, but they differ in terms of the nature of their categories and the way in which they can be ordered or ranked.\n",
    "\n",
    "Nominal data consists of categories that do not have an inherent order or ranking. Examples of nominal data include gender, race, and favorite color. In nominal data, the categories can be named or labeled, but they cannot be placed in a meaningful order. Nominal data can only be summarized using frequency counts and percentages, and the mode is the only measure of central tendency that can be calculated.\n",
    "\n",
    "Ordinal data, on the other hand, consists of categories that can be ordered or ranked, but the differences between the categories may not be uniform. Examples of ordinal data include education level (elementary, high school, college), job rank (entry-level, manager, director), and survey ratings (strongly agree, agree, neutral, disagree, strongly disagree). In ordinal data, the categories can be placed in a meaningful order or rank, but the distance between each category may not be equal. Ordinal data can be summarized using frequency counts, percentages, and measures of central tendency such as median or mode.\n",
    "\n",
    "In summary, the main difference between nominal and ordinal data is that nominal data consists of categories with no inherent order or ranking, while ordinal data consists of categories that can be ordered or ranked, but the differences between the categories may not be uniform."
   ]
  },
  {
   "cell_type": "code",
   "execution_count": null,
   "id": "5e28686f-8837-4173-955e-f68791103e40",
   "metadata": {},
   "outputs": [],
   "source": []
  },
  {
   "cell_type": "markdown",
   "id": "134fda8e-f0da-44a6-92f5-be77b139a04d",
   "metadata": {},
   "source": [
    "Q8. Which type of plot can be used to display data in terms of range?"
   ]
  },
  {
   "cell_type": "markdown",
   "id": "c855f661-8037-4950-91c0-876ec6a6e7bc",
   "metadata": {},
   "source": [
    "ANSWER : A box plot (also known as a box and whisker plot) is a type of plot that can be used to display data in terms of range. A box plot displays the distribution of a dataset by showing the median, quartiles, and range of the data. The box in the plot represents the interquartile range (IQR), which includes the middle 50% of the data. The line inside the box represents the median, and the \"whiskers\" extending from the box represent the range of the data outside of the IQR.\n",
    "\n",
    "Box plots are useful for displaying the spread of the data, identifying outliers, and comparing the distributions of different datasets. They are commonly used in data analysis, statistical inference, and data visualization."
   ]
  },
  {
   "cell_type": "code",
   "execution_count": null,
   "id": "81a44bb2-e280-497d-ae57-9ed360694041",
   "metadata": {},
   "outputs": [],
   "source": []
  },
  {
   "cell_type": "markdown",
   "id": "ed163d34-f002-47a5-8cd3-020632202a96",
   "metadata": {},
   "source": [
    "Q9. Describe the difference between descriptive and inferential statistics. Give an example of each\n",
    "type of statistics and explain how they are used."
   ]
  },
  {
   "cell_type": "markdown",
   "id": "3d81e325-13da-4f2d-91f5-3f6cce235a25",
   "metadata": {},
   "source": [
    "ANSWER : \n",
    "\n",
    "Descriptive statistics refers to the methods used to summarize and describe the main features of a dataset, such as the mean, median, mode, range, variance, and standard deviation. Descriptive statistics are used to gain a better understanding of the data and to communicate its key features to others. For example, if we have a dataset of student grades in a class, we could calculate the mean and standard deviation to summarize the average performance and the variability in the grades.\n",
    "\n",
    "Inferential statistics, on the other hand, refers to the methods used to make inferences or conclusions about a population based on a sample of data. Inferential statistics are used to test hypotheses, make predictions, and estimate parameters of interest. For example, if we want to test whether there is a significant difference in grades between male and female students in a class, we could use inferential statistics such as a t-test or ANOVA to compare the means of the two groups and determine whether the difference is statistically significant.\n",
    "\n",
    "In summary, descriptive statistics are used to describe and summarize a dataset, while inferential statistics are used to make inferences and draw conclusions about a population based on a sample of data. Both types of statistics are important in data science and are used to gain insights and make informed decisions based on data.    "
   ]
  },
  {
   "cell_type": "code",
   "execution_count": null,
   "id": "72fe16f4-bca2-46a1-8e8a-0f5a80a75eae",
   "metadata": {},
   "outputs": [],
   "source": []
  },
  {
   "cell_type": "markdown",
   "id": "3dd7987f-4f72-455d-8680-a89e48853c33",
   "metadata": {},
   "source": [
    "Q10. What are some common measures of central tendency and variability used in statistics? Explain\n",
    "how each measure can be used to describe a dataset."
   ]
  },
  {
   "cell_type": "markdown",
   "id": "9d9ca2a0-bf6e-4602-aa1d-84c52559428a",
   "metadata": {},
   "source": [
    "ANSWER : Measures of central tendency and variability are used in statistics to describe the main features of a dataset, such as its typical value and its degree of spread or variability. Some common measures of central tendency and variability are:\n",
    "\n",
    "Mean: The mean is the arithmetic average of a dataset and is calculated by summing all the values and dividing by the number of values. The mean is a useful measure of central tendency because it takes into account all the values in the dataset, but it can be sensitive to outliers and skewed data.\n",
    "\n",
    "Median: The median is the middle value in a dataset when the values are arranged in order. The median is a useful measure of central tendency because it is not affected by outliers or extreme values and is therefore more robust than the mean.\n",
    "\n",
    "Mode: The mode is the most common value in a dataset. The mode is a useful measure of central tendency for nominal or categorical data and can also be used for continuous data when the dataset is bimodal or has multiple peaks.\n",
    "\n",
    "Variance: Variance is a measure of the spread or variability of a dataset and is calculated by taking the average of the squared differences between each value and the mean. Variance is useful because it provides information about the degree of variability in the dataset, but it is not directly interpretable and can be affected by outliers.\n",
    "\n",
    "Standard deviation: Standard deviation is the square root of the variance and is a more easily interpretable measure of variability. It represents the average distance of the values from the mean and is often used to describe the degree of spread or variability in a dataset.\n",
    "\n",
    "In summary, measures of central tendency and variability are used in statistics to describe the main features of a dataset. The mean, median, and mode are measures of central tendency that describe the typical value in a dataset, while variance and standard deviation are measures of variability that describe the degree of spread or variability in a dataset.\n",
    "    "
   ]
  },
  {
   "cell_type": "code",
   "execution_count": null,
   "id": "2602f1ee-5587-49a4-ba2d-c3545618204e",
   "metadata": {},
   "outputs": [],
   "source": []
  }
 ],
 "metadata": {
  "kernelspec": {
   "display_name": "Python 3 (ipykernel)",
   "language": "python",
   "name": "python3"
  },
  "language_info": {
   "codemirror_mode": {
    "name": "ipython",
    "version": 3
   },
   "file_extension": ".py",
   "mimetype": "text/x-python",
   "name": "python",
   "nbconvert_exporter": "python",
   "pygments_lexer": "ipython3",
   "version": "3.10.8"
  }
 },
 "nbformat": 4,
 "nbformat_minor": 5
}
